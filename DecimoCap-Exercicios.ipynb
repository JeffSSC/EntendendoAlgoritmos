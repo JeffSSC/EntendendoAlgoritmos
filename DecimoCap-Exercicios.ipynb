{
 "cells": [
  {
   "cell_type": "markdown",
   "id": "b575ca62-8164-4a04-816f-9bf2a80dc1e2",
   "metadata": {},
   "source": [
    "# Décimo Capítulo"
   ]
  },
  {
   "cell_type": "markdown",
   "id": "1701b3fd-e56f-4b47-9675-cd62410b377b",
   "metadata": {},
   "source": [
    "## K-vizinhos mais próximos"
   ]
  },
  {
   "cell_type": "markdown",
   "id": "57dd46b0-3347-4eaf-983a-f4a4f69dc7dd",
   "metadata": {},
   "source": [
    "Neste capítulo, aprendemos sobre os algoritmos de K-vizinhos, que nada mais são do que algoritmos que definem a proximidade entre dois elementos."
   ]
  },
  {
   "cell_type": "markdown",
   "id": "278e3480-4dd4-4c01-afa8-b8940a2a9b6f",
   "metadata": {},
   "source": [
    "# Exercícios"
   ]
  },
  {
   "cell_type": "markdown",
   "id": "29734373-730b-4296-82e4-c3e22bc159b1",
   "metadata": {},
   "source": [
    "## 10.1 No exemplo do Netflix, calculou-se a distância entre dois usuários diferentes utilizando a fórmula da distância mas nem todos os usuários avaliam filmes da mesma maneira. Suponha que você tenha dois usuários, Yogi e Pinky, os quais têm gostos similares. No entanto, Yogi avalia qualquer filme que ele goste com 5, enquanto Pinky é mais seletivo e reserva o 5 somente para os melhores filmes. Eles têm gostos bem similares, mas, de acordo com o algoritmo da distância, eles não saão vizinhos. Como você poderia levar em conta o sistema de avaliação diferente deles?"
   ]
  },
  {
   "cell_type": "markdown",
   "id": "fc2dddb7-1d31-475d-8d10-b4733a5bbb56",
   "metadata": {},
   "source": [
    "Resposta: Nesse caso, eu calcularia a media de todas as avaliações de ambos os usuários, e caso um dos usuários nunca tenha avaliado com 5 algo, ou tenha avaliado raramente algo com 5, a média dele deveria ser aumentada para torna-la mais comparavel com a media do outro usuário."
   ]
  },
  {
   "cell_type": "markdown",
   "id": "c3272742-8cdb-402c-b457-b343f1d6579f",
   "metadata": {},
   "source": [
    "## 10.2 Suponha que o Netflix nomeie um grupo de \"influenciadores\". Por exemplo, Quentin Tarantino e Wes Anderson são influenciadores no Netflix, portanto as avaliações deles contam mais do que as de um usuário comum. Como você poderia modificar o sistema de recomendações de forma que as avaliações dos influenciadores tenha um peso maior?"
   ]
  },
  {
   "cell_type": "markdown",
   "id": "b9b12544-c379-4155-8d07-e2d21ed72907",
   "metadata": {},
   "source": [
    "Resposta: Nesse caso, pode se calcular a recomendação do influenciador com o peso de duas ou mais avaliações, apenas multiplicando o peso dela na hora de calcular utilizando o algoritmo de K-vizinhos."
   ]
  },
  {
   "cell_type": "markdown",
   "id": "3a1b5717-7b86-403a-a5f0-956768cc68bd",
   "metadata": {},
   "source": [
    "## 10.3 O netflix tem milhões de usuários, e no exemplo anterior consideraram-se os cinco vizinhos mais próximos ao criar o sistema de recomendações. Esse número é baixo demais? Ou talvez alto demais?"
   ]
  },
  {
   "cell_type": "markdown",
   "id": "4b97373a-731a-4254-8ff2-c0555b86fa94",
   "metadata": {},
   "source": [
    "Resposta: Esse é um número baixo, e pode gerar imprecisões no resultado final do sistema."
   ]
  }
 ],
 "metadata": {
  "kernelspec": {
   "display_name": "Python 3 (ipykernel)",
   "language": "python",
   "name": "python3"
  },
  "language_info": {
   "codemirror_mode": {
    "name": "ipython",
    "version": 3
   },
   "file_extension": ".py",
   "mimetype": "text/x-python",
   "name": "python",
   "nbconvert_exporter": "python",
   "pygments_lexer": "ipython3",
   "version": "3.13.1"
  }
 },
 "nbformat": 4,
 "nbformat_minor": 5
}
