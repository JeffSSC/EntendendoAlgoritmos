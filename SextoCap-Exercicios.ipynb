{
 "cells": [
  {
   "cell_type": "markdown",
   "id": "bb18ca64-cfea-409a-a6c8-78c2c96df030",
   "metadata": {},
   "source": [
    "# Sexto Capítulo"
   ]
  },
  {
   "cell_type": "markdown",
   "id": "dcc922f9-8c90-4562-8f4a-81912958c05d",
   "metadata": {},
   "source": [
    "Esse capítulo explica o funcionamento de um grafo e as formas de aplicar uma pesquisa em largura para resolve-lo, encontrando assim o caminho mais curto para o destino."
   ]
  },
  {
   "cell_type": "markdown",
   "id": "e28e26e4-3630-4eaf-894b-8646d64fba13",
   "metadata": {},
   "source": [
    "## O que é um grafo?"
   ]
  },
  {
   "cell_type": "markdown",
   "id": "7c03209d-7b22-4cc7-bfe4-d9d99dd4acc7",
   "metadata": {},
   "source": [
    "Um grafo é um conjunto de conexões formados por vértices e arestas, imagine um mapa com três cidades nomeadas de A, B e C, a cidade A se conecta com a B por meio de uma estrada e a cidade B se conecta com a C por meio de outra estrada, nesse exemplo, pode se dizer que as cidades são os vértices e as estradas são as arestas que as conectam, formando assim um grafo."
   ]
  },
  {
   "cell_type": "markdown",
   "id": "ae378050-ba91-4bb7-9471-d4287890a8f5",
   "metadata": {},
   "source": [
    "## Pesquisa em Largura"
   ]
  },
  {
   "cell_type": "markdown",
   "id": "25070709-66d6-4e60-95c2-c86e94f13832",
   "metadata": {},
   "source": [
    "A pesquisa em Largura é um algoritmo capaz de encontrar o caminho mais curto para um destino em um grafo."
   ]
  },
  {
   "cell_type": "markdown",
   "id": "603ab014-3e59-42a6-ab8f-9efca26d7d0f",
   "metadata": {},
   "source": [
    "# Exercícios"
   ]
  },
  {
   "cell_type": "markdown",
   "id": "381a3baa-51d1-45c6-bb95-828b8c22bd0f",
   "metadata": {},
   "source": [
    "Execute o algoritmo de pesquisa em largura em cada um desses grafos para encontrar a solução."
   ]
  },
  {
   "cell_type": "markdown",
   "id": "e5cbcb96-a1c7-475b-b88f-2e099b4e2585",
   "metadata": {},
   "source": [
    "### 6.1 Encontre o menor caminho do Ínicio ao Fim."
   ]
  },
  {
   "cell_type": "markdown",
   "id": "4b0aca1d-b347-4368-929b-0fab00053836",
   "metadata": {},
   "source": [
    "<div>\n",
    "<img src=\"img/6-1.jpg\" width=\"400\"/>\n",
    "</div>"
   ]
  },
  {
   "cell_type": "markdown",
   "id": "d764cb37-51fa-4d11-a6ba-f79f3a8d471e",
   "metadata": {},
   "source": [
    "Resposta: O menor caminho tem comprimento de 2."
   ]
  },
  {
   "cell_type": "markdown",
   "id": "cf5ac207-6634-40cf-8452-c0ecb88823ce",
   "metadata": {},
   "source": [
    "### 6.2 Encontre o menor caminho de \"jato\" até \"gado\"."
   ]
  },
  {
   "cell_type": "markdown",
   "id": "e1ad2e84-01c7-412d-b55f-a43c70682b12",
   "metadata": {},
   "source": [
    "<div>\n",
    "<img src=\"img/6-2.jpg\" width=\"400\"/>\n",
    "</div>"
   ]
  },
  {
   "cell_type": "markdown",
   "id": "29f56a01-37cb-4c2d-9b1d-39bd32d823d5",
   "metadata": {},
   "source": [
    "Resposta: O menor caminho tem comprimento de 2."
   ]
  },
  {
   "cell_type": "markdown",
   "id": "ddcafc16-54ab-40dc-8d17-5db9b2cbfd19",
   "metadata": {},
   "source": [
    "### 6.3 Quanto a estas três listas, marque se elas são válidas ou inválidas."
   ]
  },
  {
   "cell_type": "markdown",
   "id": "2b82c5b8-0dbc-423e-992c-05c1e78ebdac",
   "metadata": {},
   "source": [
    "<div>\n",
    "<img src=\"img/6-3.jpg\" width=\"400\"/>\n",
    "</div>"
   ]
  },
  {
   "cell_type": "markdown",
   "id": "1913ac10-c8d6-43d5-9c4a-bc9511d9e9fd",
   "metadata": {},
   "source": [
    "Resposta: As listas A e C são inválidas, enquanto a B é válida."
   ]
  },
  {
   "cell_type": "markdown",
   "id": "ba389dc1-a098-4a71-8450-294547897020",
   "metadata": {},
   "source": [
    "### 6.4 Aqui temos um grafo maior. Faça uma lista válida para ele."
   ]
  },
  {
   "cell_type": "markdown",
   "id": "4f916c04-9df9-4607-b143-896d65a7f3c7",
   "metadata": {},
   "source": [
    "<div>\n",
    "<img src=\"img/6-4-1.jpg\" width=\"400\"/>\n",
    "</div>"
   ]
  },
  {
   "cell_type": "markdown",
   "id": "1afb646e-c672-498c-9129-a567a72f82d2",
   "metadata": {},
   "source": [
    "### Você poderia dizer que essa lista é, de certa forma, ordenada. Se a tarefa A depende da tarefa B, a tarefa A aparece depois na lista. Isso é chamado de ordenação topológica, e é uma maneira de criar uma lista ordenada a partir de um grafo. Imagine que você esteja planejando um casamento e tenha um grafo enorme de tarefas a serem realizadas."
   ]
  },
  {
   "cell_type": "markdown",
   "id": "962a39ed-3361-4788-b893-167d1ec088b0",
   "metadata": {},
   "source": [
    "### Porém você não sabe nem por onde começar. Assim, uma ordenação topológica do grafo poderia ser feita e, dessa forma, uma lista de tarefas já em ordem seria elaborada."
   ]
  },
  {
   "cell_type": "markdown",
   "id": "57e42a44-5807-4469-81c2-705fb52c8555",
   "metadata": {},
   "source": [
    "### Suponha que você tenha uma árvore genealógica."
   ]
  },
  {
   "cell_type": "markdown",
   "id": "05be9e6d-ecb0-46f2-9212-969ab13fc11a",
   "metadata": {},
   "source": [
    "<div>\n",
    "<img src=\"img/6-4-2.jpg\" width=\"400\"/>\n",
    "</div>"
   ]
  },
  {
   "cell_type": "markdown",
   "id": "e8b0a6d1-1a39-4d20-9379-50bdd8c81654",
   "metadata": {},
   "source": [
    "### Esta árvore é um grafo, pois existem vértices (as pessoas) e arestas, e as arestas apontam para os pais dos vértices. Porém todas as arestas apontam para baixo, pois não faria sentido uma árvore genealógica ter arestas apontando para cima! Seu pai não pode ser o pai do seu avô!"
   ]
  },
  {
   "cell_type": "markdown",
   "id": "544c5210-e339-4a94-9690-f02ac0e7fc27",
   "metadata": {},
   "source": [
    "<div>\n",
    "<img src=\"img/6-4-3.jpg\" width=\"400\"/>\n",
    "</div>"
   ]
  },
  {
   "cell_type": "markdown",
   "id": "5cc8440d-913d-413e-95b9-2372fd3e6a99",
   "metadata": {},
   "source": [
    "### Isso é chamado árvore. Uma árvore é um tipo especial de grafo em que nenhuma aresta jamais aponta de volta."
   ]
  },
  {
   "cell_type": "markdown",
   "id": "9bac028b-7aa1-4758-8532-d3507ae8c9dc",
   "metadata": {},
   "source": [
    "Resposta:"
   ]
  },
  {
   "cell_type": "markdown",
   "id": "769e3dcd-5f45-4350-b4fd-bc1fafe5f76a",
   "metadata": {},
   "source": [
    "- Acordar;\n",
    "- Escovar dentes;\n",
    "- Tomar café da manhã;\n",
    "- Praticar exercícios;\n",
    "- Tomar banho;\n",
    "- Trocar de roupa;\n",
    "- Embrulhar lanche;"
   ]
  },
  {
   "cell_type": "markdown",
   "id": "9098eb18-4a79-4e6f-9197-fcc903d53397",
   "metadata": {},
   "source": [
    "### 6.5 Quais desses grafos também são árvores?"
   ]
  },
  {
   "cell_type": "markdown",
   "id": "4051588d-f42a-4d9f-8e5f-d402400fb5ab",
   "metadata": {},
   "source": [
    "<div>\n",
    "<img src=\"img/6-5.jpg\" width=\"400\"/>\n",
    "</div>"
   ]
  },
  {
   "cell_type": "markdown",
   "id": "e10e7bef-383d-4c85-a41a-a607ae9c62af",
   "metadata": {},
   "source": [
    "Resposta: Os grafos A e C são árvores."
   ]
  }
 ],
 "metadata": {
  "kernelspec": {
   "display_name": "Python 3 (ipykernel)",
   "language": "python",
   "name": "python3"
  },
  "language_info": {
   "codemirror_mode": {
    "name": "ipython",
    "version": 3
   },
   "file_extension": ".py",
   "mimetype": "text/x-python",
   "name": "python",
   "nbconvert_exporter": "python",
   "pygments_lexer": "ipython3",
   "version": "3.13.1"
  }
 },
 "nbformat": 4,
 "nbformat_minor": 5
}
