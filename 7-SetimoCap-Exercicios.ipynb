{
 "cells": [
  {
   "cell_type": "markdown",
   "id": "70358204-02d3-43ab-816b-c5bc4e593193",
   "metadata": {},
   "source": [
    "# Setimo Capítulo"
   ]
  },
  {
   "cell_type": "markdown",
   "id": "9c44d6ac-f342-4359-a190-2445d422ec3d",
   "metadata": {},
   "source": [
    "## Algoritmo de Dijkstra"
   ]
  },
  {
   "cell_type": "markdown",
   "id": "50bef54f-4b75-4a32-91b4-760047bfaf96",
   "metadata": {},
   "source": [
    "Neste capítulo, nos aprofundamos nos conceitos de grafo, o livro nos introduz ao conceito de grafo ponderado e grafo não ponderado, e os algoritmos que resolvem esses respectivos grafos."
   ]
  },
  {
   "cell_type": "markdown",
   "id": "ea12ba8d-37a9-4ef4-8173-ec91ab6cf34e",
   "metadata": {},
   "source": [
    "No grafo não ponderado, podemos utilizar o mesmo algoritmo estudado no capítulo anterior, chamado de Pesquisa em Largura."
   ]
  },
  {
   "cell_type": "markdown",
   "id": "79331714-da82-4fcf-9e77-0dc61363033f",
   "metadata": {},
   "source": [
    "Já no grafo ponderado, temos de utilizar o algoritmo de Dijkstra, que acrescenta um nivel maior de complexidade à todo o processo de resolução, tendo em vista que o grafo ponderado acrescenta um \"peso\" para cada uma de suas arestas."
   ]
  },
  {
   "cell_type": "markdown",
   "id": "6a4cf5d3-8ff5-4b07-9a8c-137cb66765cd",
   "metadata": {},
   "source": [
    "## Exemplos"
   ]
  },
  {
   "cell_type": "markdown",
   "id": "c444fe70-6af5-4546-aa69-2399681c92ae",
   "metadata": {},
   "source": [
    "A seguir farei códigos que resolvem, tanto grafos ponderados quanto não ponderados, todos feitos em python."
   ]
  },
  {
   "cell_type": "markdown",
   "id": "7e242e84-ad97-4397-98ef-ca68f01481d8",
   "metadata": {},
   "source": [
    "# Pesquisa em Largura"
   ]
  },
  {
   "cell_type": "code",
   "execution_count": 9,
   "id": "b9544cfb-863a-425c-b7d4-ba406d807020",
   "metadata": {},
   "outputs": [
    {
     "name": "stdout",
     "output_type": "stream",
     "text": [
      "jonny é um vendedor de manga!\n"
     ]
    },
    {
     "data": {
      "text/plain": [
       "True"
      ]
     },
     "execution_count": 9,
     "metadata": {},
     "output_type": "execute_result"
    }
   ],
   "source": [
    "# Para esse código funcionar, precisaremos importar a biblioteca deque\n",
    "from collections import deque\n",
    "\n",
    "# Essa é uma função que realiza a pesquisa em largura que busca o vendedor de manga mais próximo do seu circulo social\n",
    "\n",
    "def pesquisa(nome):\n",
    "    fila_de_pesquisa = deque()\n",
    "    fila_de_pesquisa += grafo[nome]\n",
    "    verificadas = []\n",
    "    while fila_de_pesquisa:\n",
    "        pessoa = fila_de_pesquisa.popleft()\n",
    "        if not pessoa in verificadas:\n",
    "            if pessoa_e_vendedor(pessoa):\n",
    "                print(pessoa + \" é um vendedor de manga!\")\n",
    "                return True\n",
    "            else:\n",
    "                fila_de_pesquisa += grafo[pessoa]\n",
    "                verificadas.append(pessoa)\n",
    "    return False\n",
    "\n",
    "# Essa outra função verifica quem é um vendedor de manga ou não, para esse exemplo, digamos que qualquer pessoa com o nome que começa com \"j\" seja um vendedor de manga\n",
    "\n",
    "def pessoa_e_vendedor(nome):\n",
    "    return nome[0] == 'j'\n",
    "\n",
    "# Agora vou criar um grafo para ser resolvido por esse código\n",
    "# Os grafos no python tem esse formato de \"dicionário\"\n",
    "\n",
    "grafo = {}\n",
    "grafo[\"voce\"] = [\"alice\",\"bob\",\"claire\"]\n",
    "grafo[\"bob\"] = [\"anuj\",\"peggy\"]\n",
    "grafo[\"alice\"] = [\"peggy\"]\n",
    "grafo[\"claire\"] = [\"thom\",\"jonny\"]\n",
    "grafo[\"anuj\"] = []\n",
    "grafo[\"peggy\"] = []\n",
    "grafo[\"thom\"] = []\n",
    "grafo[\"jonny\"] = []\n",
    "\n",
    "# agora faremos a busca\n",
    "\n",
    "pesquisa(\"voce\")"
   ]
  },
  {
   "cell_type": "markdown",
   "id": "d5264d8f-1d6d-4dd8-ab97-e08828693008",
   "metadata": {},
   "source": [
    "# Algoritmo de Dijkstra"
   ]
  },
  {
   "cell_type": "markdown",
   "id": "4491436a-108f-4f5b-ac94-228cbbf6b957",
   "metadata": {},
   "source": [
    "Imagine o seguinte grafo ponderado"
   ]
  },
  {
   "cell_type": "markdown",
   "id": "b9b64ac9-827c-4854-84b6-9b526537d246",
   "metadata": {},
   "source": [
    "<div>\n",
    "    <img src = \"img/7-1.jpg\" width = \"400\"/>\n",
    "</div>"
   ]
  },
  {
   "cell_type": "markdown",
   "id": "1f2589c7-5f2d-4964-8198-ac1f9d8b0f8e",
   "metadata": {},
   "source": [
    "Agora vamos criar um código que resolva esse grafo encontrando o caminho mais barato possível."
   ]
  },
  {
   "cell_type": "code",
   "execution_count": 27,
   "id": "7f1de6fb-cd64-4b76-9e7e-9c128505500d",
   "metadata": {},
   "outputs": [
    {
     "name": "stdout",
     "output_type": "stream",
     "text": [
      "O custo do caminho mais barato é 6\n"
     ]
    }
   ],
   "source": [
    "# criando as tabelas\n",
    "\n",
    "# Tabela de caminhos\n",
    "grafo[\"inicio\"] = {}\n",
    "grafo[\"inicio\"][\"a\"] = 6\n",
    "grafo[\"inicio\"][\"b\"] = 2\n",
    "\n",
    "grafo[\"a\"] = {}\n",
    "grafo[\"a\"][\"fim\"] = 1\n",
    "\n",
    "grafo[\"b\"] = {}\n",
    "grafo[\"b\"][\"a\"] = 3\n",
    "grafo[\"b\"][\"fim\"] = 5\n",
    "\n",
    "grafo[\"fim\"] = {}\n",
    "\n",
    "# Tabela de custos\n",
    "infinito = float(\"inf\")\n",
    "custos = {}\n",
    "custos[\"a\"] = 6\n",
    "custos[\"b\"] = 2\n",
    "custos[\"fim\"] = infinito\n",
    "\n",
    "# Tabela de vértices pais\n",
    "pais = {}\n",
    "pais[\"a\"] = \"inicio\"\n",
    "pais[\"b\"] = \"inicio\"\n",
    "pais[\"fim\"] = None\n",
    "\n",
    "# array que guarda as vértices processadas\n",
    "processados = []\n",
    "\n",
    "# função que realiza a busca do vértice de custo mínimo\n",
    "def ache_no_custo_mais_baixo(custos):\n",
    "    custo_mais_baixo = float(\"inf\")\n",
    "    nodo_custo_mais_baixo = None\n",
    "    for nodo in custos:\n",
    "        custo = custos[nodo]\n",
    "        if custo < custo_mais_baixo and nodo not in processados:\n",
    "            custo_mais_baixo = custo\n",
    "            nodo_custo_mais_baixo = nodo\n",
    "    return nodo_custo_mais_baixo\n",
    "\n",
    "# código para resolver o grafo ponderado\n",
    "nodo = ache_no_custo_mais_baixo(custos)\n",
    "while nodo is not None:\n",
    "    custo = custos[nodo]\n",
    "    vizinhos = grafo[nodo]\n",
    "    for n in vizinhos.keys():\n",
    "        novo_custo = custo + vizinhos[n]\n",
    "        if custos[n] > novo_custo:\n",
    "            custos[n] = novo_custo\n",
    "            pais[n] = nodo\n",
    "    processados.append(nodo)\n",
    "    nodo = ache_no_custo_mais_baixo(custos)\n",
    "\n",
    "print(\"O custo do caminho mais barato é\",custo)"
   ]
  },
  {
   "cell_type": "markdown",
   "id": "3352f8ae-3afb-4ea4-9b1e-87f438427367",
   "metadata": {},
   "source": [
    "# Exercícios"
   ]
  },
  {
   "cell_type": "markdown",
   "id": "bbe060cc-64ec-4d2c-ac57-d791c59a4171",
   "metadata": {},
   "source": [
    "## 7.1 Em cada um desses grafos, qual é o peso do caminho mínimo do ínicio ao fim?"
   ]
  },
  {
   "cell_type": "markdown",
   "id": "813eb613-ca44-42c6-bcb9-bc10eae69d7a",
   "metadata": {},
   "source": [
    "<div>\n",
    "    <img src = \"img/7-2.jpg\" width = \"400\"/>\n",
    "</div>"
   ]
  },
  {
   "cell_type": "markdown",
   "id": "6130c6c2-edf5-4957-b770-83a4770e8dbd",
   "metadata": {},
   "source": [
    "A - O caminho mais barato custa 8."
   ]
  },
  {
   "cell_type": "markdown",
   "id": "492d3952-65b9-4725-8a34-f72397061e90",
   "metadata": {},
   "source": [
    "B - O caminho mais barato custa 60."
   ]
  },
  {
   "cell_type": "markdown",
   "id": "c663744c-9822-4434-bc7b-0b0d8ae7f9a6",
   "metadata": {},
   "source": [
    "C - O caminho mais barato custa 4."
   ]
  }
 ],
 "metadata": {
  "kernelspec": {
   "display_name": "Python 3 (ipykernel)",
   "language": "python",
   "name": "python3"
  },
  "language_info": {
   "codemirror_mode": {
    "name": "ipython",
    "version": 3
   },
   "file_extension": ".py",
   "mimetype": "text/x-python",
   "name": "python",
   "nbconvert_exporter": "python",
   "pygments_lexer": "ipython3",
   "version": "3.13.1"
  }
 },
 "nbformat": 4,
 "nbformat_minor": 5
}
