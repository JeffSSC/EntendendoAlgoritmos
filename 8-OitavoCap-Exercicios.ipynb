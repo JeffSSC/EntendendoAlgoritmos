{
 "cells": [
  {
   "cell_type": "markdown",
   "id": "42cb1ca9-2dd6-4255-b46a-40b36e3269e2",
   "metadata": {},
   "source": [
    "# Oitavo Capítulo"
   ]
  },
  {
   "cell_type": "markdown",
   "id": "20f40406-2174-4921-9c14-0d4b3ac356c4",
   "metadata": {},
   "source": [
    "## Algaritmos Gulosos"
   ]
  },
  {
   "cell_type": "markdown",
   "id": "9ea8e4a2-8bae-43cb-b1ca-58670872db1e",
   "metadata": {},
   "source": [
    "Esse capítulo se trata de algaritmos simples que resolvem um problema mesmo que não alcancem a solução ideal para o mesmo."
   ]
  },
  {
   "cell_type": "markdown",
   "id": "eaf69664-d8b3-4840-9c32-7cb95269e498",
   "metadata": {},
   "source": [
    "Muitas vezes a solução ideal é mais complexa, demanda mais esforço e pode ser mais lenta que a solução gulosa, e por isso, em alguns momentos devemos optar pela solução gulosa."
   ]
  },
  {
   "cell_type": "markdown",
   "id": "fb4eaa4f-bf33-40d2-aa7b-3a0e4eda3135",
   "metadata": {},
   "source": [
    "## Problemas NP-Completos"
   ]
  },
  {
   "cell_type": "markdown",
   "id": "0b94dda7-f81f-4bfa-97d8-1533f22f4b6d",
   "metadata": {},
   "source": [
    "Esse capítulo também nos introduz nos problemas NP-Completos, que são problemas que, a primeira vista parecem faceis, mas que são complexos e que não tem soluções rápidas viáveis, um bom exemplo deles é o problema do Caixeiro Viajante."
   ]
  },
  {
   "cell_type": "markdown",
   "id": "1396a914-0d1c-4a3e-bf48-363716f68cbb",
   "metadata": {},
   "source": [
    "# Exercícios"
   ]
  },
  {
   "cell_type": "markdown",
   "id": "71efe0f2-5978-4600-85af-c84e41a4dd54",
   "metadata": {},
   "source": [
    "## 8.1 Você trabalha para  uma empresa de mobílias e tem de enviar os móveis para todo o país. É necessário encher seu caminhão com caixas, e todas as caixas são de tamanhos diferentes. Você está tentando maximizar o espaço que consegue usar em cada caminhão. Como escolheria as caixas para maximizar o espaço? Proponha uma solução gulosa. Ela lhe dará a solução ideal?"
   ]
  },
  {
   "cell_type": "markdown",
   "id": "7360f0b0-5f87-4565-90ae-3d47329d8e8e",
   "metadata": {},
   "source": [
    "Resposta: O algoritmo deverá pegar a maior caixa disponível que caiba no caminhão, coloca-la no caminhão, e repetir esse processo até que todas as caixas sejam guardadas. Esse algoritmo não dará uma solução ideal, mas uma solução \"gulosa\", que solucionará o problema priorizando a praticidade ao invés da eficiência."
   ]
  },
  {
   "cell_type": "markdown",
   "id": "c293cc51-c840-4bc8-8a1e-87768d49484a",
   "metadata": {},
   "source": [
    "## 8.2 Você está viajando para a Europa e tem sete dias para visitar o maior número de lugares. Para cada lugar você atribui um valor (o quanto deseja ver) e estima quanto tempo demora. Como maximizar o total de pontos (passar por todos os lugares que realmente quer ver) durante sua estadia? Proponha uma solução gulosa. Ela lhe dará uma solução ideal?"
   ]
  },
  {
   "cell_type": "markdown",
   "id": "eb7c5420-6b16-4963-9959-7d7d68d64840",
   "metadata": {},
   "source": [
    "Resposta: O algoritmo deverá pegar o local que você mais quer visitar e que levará a menor quantidade de tempo para visita-lo, e então visitar o local, repetindo esse processo até finalizar a viagem. Esse algoritmo dará uma solução mais próxima do ideal, embora ainda não seja a solução ideal."
   ]
  },
  {
   "cell_type": "markdown",
   "id": "bc3e8a3d-db3e-44b2-bcde-a9d418b2b521",
   "metadata": {},
   "source": [
    "## Para cada um desses algoritmos, diga se ele é guloso ou não."
   ]
  },
  {
   "cell_type": "markdown",
   "id": "58402220-3473-40af-807a-8a44456d326e",
   "metadata": {},
   "source": [
    "## 8.3 Quicksort"
   ]
  },
  {
   "cell_type": "markdown",
   "id": "79164623-a237-4b97-8d25-7387fd019d11",
   "metadata": {},
   "source": [
    "Resposta: Não é um algoritmo guloso."
   ]
  },
  {
   "cell_type": "markdown",
   "id": "9a43a78c-3fb7-40af-ad91-780f22ee447e",
   "metadata": {},
   "source": [
    "## 8.4 Pesquisa em Largura"
   ]
  },
  {
   "cell_type": "markdown",
   "id": "e0f6cc71-25c3-4c65-b4bf-a302e1282740",
   "metadata": {},
   "source": [
    "Resposta: Não é um algoritmo guloso."
   ]
  },
  {
   "cell_type": "markdown",
   "id": "2fad080d-2b39-4c6c-84d4-dd7d6a10ee6d",
   "metadata": {},
   "source": [
    "## 8.5 Algoritmo de Dijkstra"
   ]
  },
  {
   "cell_type": "markdown",
   "id": "55632d8c-4afa-4b20-bfdc-f6dca8ad9388",
   "metadata": {},
   "source": [
    "Resposta: É um algoritmo guloso."
   ]
  },
  {
   "cell_type": "markdown",
   "id": "b2a3f9bd-12ad-485d-a0cf-9a316364020d",
   "metadata": {},
   "source": [
    "## 8.6 Um carteiro deve entregar correspondências para vinte casas. Ele deve encontrar a rota mais curta que passe por todas as vinte casas. Esse é um problema NP-Completo?"
   ]
  },
  {
   "cell_type": "markdown",
   "id": "d2f5910f-cabf-4087-8e32-e3eed748e9f3",
   "metadata": {},
   "source": [
    "Resposta: Sim, esse é um problema NP-Completo pois apresenta um sequencia, como o problema do caixeiro viajante.."
   ]
  },
  {
   "cell_type": "markdown",
   "id": "d2946211-62e6-4ea4-aa40-5370bfd2eb5d",
   "metadata": {},
   "source": [
    "## 8.7 Encontrar o maior clique em um conjunto de pessoas (um clique, para este exemplo, é um conjunto de pessoas em que todos se conhecem). Isso é um problema NP-Completo?"
   ]
  },
  {
   "cell_type": "markdown",
   "id": "ea90117b-2d0a-4b1b-a302-3d1b44880a8b",
   "metadata": {},
   "source": [
    "Resposta: Sim, essse é um problema NP-Completo pois envolve um conjunto de pessoas e vai se tornando mais complicado a medida que se tem um grupo maior de pessoas."
   ]
  },
  {
   "cell_type": "markdown",
   "id": "2c8a232c-06f9-4671-952e-388362b554b7",
   "metadata": {},
   "source": [
    "## 8.8 Você está fazendo um mapa dos Estados Unidos e precisa colorir estados adjacentes com cores diferentes. Para isso, deve encontrar o número mínimo de cores para que não existam dois estados adjacentes com a mesma cor. Isso é um problema NP-Completo?"
   ]
  },
  {
   "cell_type": "markdown",
   "id": "d58ea673-d844-4a2d-bc58-58b061da96a3",
   "metadata": {},
   "source": [
    "Resposta: Sim, esse um problema NP-Completo pois seria necessário calcular todas as combinações possíveis para cada estado."
   ]
  }
 ],
 "metadata": {
  "kernelspec": {
   "display_name": "Python 3 (ipykernel)",
   "language": "python",
   "name": "python3"
  },
  "language_info": {
   "codemirror_mode": {
    "name": "ipython",
    "version": 3
   },
   "file_extension": ".py",
   "mimetype": "text/x-python",
   "name": "python",
   "nbconvert_exporter": "python",
   "pygments_lexer": "ipython3",
   "version": "3.13.1"
  }
 },
 "nbformat": 4,
 "nbformat_minor": 5
}
