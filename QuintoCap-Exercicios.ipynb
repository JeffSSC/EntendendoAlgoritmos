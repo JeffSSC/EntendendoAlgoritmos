{
 "cells": [
  {
   "cell_type": "markdown",
   "id": "9db2683a-2c03-4ada-871b-3e17b909f6f6",
   "metadata": {},
   "source": [
    "# Quinto Capítulo"
   ]
  },
  {
   "cell_type": "markdown",
   "id": "712b135a-13c1-4e15-8a53-54826a074f13",
   "metadata": {},
   "source": [
    "## Tabelas Hash\n"
   ]
  },
  {
   "cell_type": "markdown",
   "id": "fad7f3bd-f50d-4bc7-8f38-3a96b8ba4a15",
   "metadata": {},
   "source": [
    "Esse capítulo explica como funciona uma tabela hash e como podemos utiliza-la."
   ]
  },
  {
   "cell_type": "markdown",
   "id": "bd58c9d2-3dfe-4bbf-bd75-49bf3da4237d",
   "metadata": {},
   "source": [
    "A tabela hash geralmente já vem implementada na maioria das linguagens de programação e permitem vincular um dado à um valor."
   ]
  },
  {
   "cell_type": "markdown",
   "id": "62310dee-2033-4652-a8c1-6d6a88ed4da1",
   "metadata": {},
   "source": [
    "Elas funcionam transformando o dado em um indice que é onde será inserida a informação referente à esse dado, ou seja, suponhamos que eu queira vincular o valor 1.50 ao item \"maça\", a tabela hash transformará a string \"maça\" em um indice e irá inserir o dado 1.50 nesse indice."
   ]
  },
  {
   "cell_type": "markdown",
   "id": "4f7df440-c814-4f45-af3b-27e8c66f3df6",
   "metadata": {},
   "source": [
    "As funções hash devem ser consistentes, ou seja, sempre que eu inserir o mesmo dado, ela deve retornar o mesmo indice e não algum indice aleatório."
   ]
  },
  {
   "cell_type": "markdown",
   "id": "20dcdec6-b9df-4a49-a286-218bf6cbbffa",
   "metadata": {},
   "source": [
    "## Exercícios"
   ]
  },
  {
   "cell_type": "markdown",
   "id": "eeaebccf-7e63-40af-a7d1-04882f89edcd",
   "metadata": {},
   "source": [
    "## Quais destas funções hash são consistentes?"
   ]
  },
  {
   "cell_type": "markdown",
   "id": "ced31b89-f721-4b48-9db8-ad4e82c58f30",
   "metadata": {},
   "source": [
    "### f(x) = 1"
   ]
  },
  {
   "cell_type": "markdown",
   "id": "042105bc-25a6-4145-818c-b26aa589b14e",
   "metadata": {},
   "source": [
    "Consistente, pois sempre retorna o mesmo indice."
   ]
  },
  {
   "cell_type": "markdown",
   "id": "a6298eca-031d-4680-ac94-a0ddca877d0c",
   "metadata": {},
   "source": [
    "### f(x) = rand()"
   ]
  },
  {
   "cell_type": "markdown",
   "id": "499b875e-ed54-4fd9-a17f-5f0d45138886",
   "metadata": {},
   "source": [
    "Inconsistente, pois sempre retornará um indice aleatório."
   ]
  },
  {
   "cell_type": "markdown",
   "id": "dd080f5d-5259-4ce2-99c5-a02e8e95e32b",
   "metadata": {},
   "source": [
    "### f(x) = proximo_espaco_vazio()"
   ]
  },
  {
   "cell_type": "markdown",
   "id": "20667050-6156-42c9-a677-065ac53b09a6",
   "metadata": {},
   "source": [
    "Inconsistente, pois sempre retornará um indice diferente após qualquer inserção."
   ]
  },
  {
   "cell_type": "markdown",
   "id": "74374409-67e8-467a-a78b-4c8d976fa214",
   "metadata": {},
   "source": [
    "### f(x) = len(x)"
   ]
  },
  {
   "cell_type": "markdown",
   "id": "c7993dd4-9c38-4c44-a4d2-64f023d1a5ef",
   "metadata": {},
   "source": [
    "Consistente, pois o tamanho da array sempre será o mesmo."
   ]
  },
  {
   "cell_type": "markdown",
   "id": "49e037bf-db79-4f4e-86c1-c5078553b2c0",
   "metadata": {},
   "source": [
    "## É importante que funções has tenham uma boa distribuição. Dessa forma, elas ficam com o mapeamento mais amplo possível. O pior caso é uma função hash que mapeia todos os itens para o mesmo espaçoda tabela hash."
   ]
  },
  {
   "cell_type": "markdown",
   "id": "c6b110fb-323f-4507-839c-4d4f2d491817",
   "metadata": {},
   "source": [
    "## Suponha que você tnha estas quatro funções hash que operam com strings:"
   ]
  },
  {
   "cell_type": "markdown",
   "id": "135a78b4-7066-4f21-8c00-ab4381e0308c",
   "metadata": {},
   "source": [
    "a. Retorne \"1\" para qualquer entrada."
   ]
  },
  {
   "cell_type": "markdown",
   "id": "9c441005-979f-496b-8a6a-054b52393244",
   "metadata": {},
   "source": [
    "b. Use o comprimento da string como indice."
   ]
  },
  {
   "cell_type": "markdown",
   "id": "6939cb4c-8f69-418c-8ca7-f280b126012a",
   "metadata": {},
   "source": [
    "c. Use o primeiro caractere da string como índice. Assim, todas as strings que iniciam com a letra \"a\" são hasheadas juntas e assim por diante."
   ]
  },
  {
   "cell_type": "markdown",
   "id": "560d2eac-c422-4978-9efd-d4c576310b4b",
   "metadata": {},
   "source": [
    "d. Mapeie cada letra para um número primo: a = 2, b = 3, c = 5, d = 7, e = 11, e assim por diante. Para uma string, a função hash é a soma de todos os caracteres-módulo conforme o tamanho da hash. se o tamanho de sua hash for 10, por exemplo, e a string for \"bag\", o índice será (3 + 2 + 17) % 10 = 22 % 10 = 2"
   ]
  },
  {
   "cell_type": "markdown",
   "id": "8eca0644-10fe-4b84-8926-949af796a058",
   "metadata": {},
   "source": [
    "## Para cada um destes exemplos, qual função hash fornecerá uma boa distribuição? Considere que o tamanho da tabela hash tenha dez espaços."
   ]
  },
  {
   "cell_type": "markdown",
   "id": "ae0363e0-881e-4ea9-86e6-9c01a36542c7",
   "metadata": {},
   "source": [
    "### 5.5 Uma lista telefônica em que as chaves são os nomes e os valores são os números telefônicos. Os nomes são os seguintes: Esther, Ben, Bob e Dan."
   ]
  },
  {
   "cell_type": "markdown",
   "id": "9a144b7b-1a29-43aa-9aca-0c14dbc0da21",
   "metadata": {},
   "source": [
    "Acredito que nessa situação, a melhor opção de função hash seja a \"c\", usar o primeiro caractere da string como índice."
   ]
  },
  {
   "cell_type": "markdown",
   "id": "46a18f44-c648-4220-bbca-0af6d3842417",
   "metadata": {},
   "source": [
    "### 5.6 Um mapeamento do tamanho de baterias e sua devida potência. Os tamanhos são A, AA, AAA e AAAA."
   ]
  },
  {
   "cell_type": "markdown",
   "id": "bc6027d7-5c30-4d09-8d64-feb57d4c2aae",
   "metadata": {},
   "source": [
    "A melhor função hash para se usar nesse contexto é a \"b\", usar o comprimento da string como índice."
   ]
  },
  {
   "cell_type": "markdown",
   "id": "e3d26e3e-e541-4e8f-8ddc-4b99caa3ce7b",
   "metadata": {},
   "source": [
    "### 5.7 Um mapeamento de títulos de livros e autores. Os títulos são Maus, Fun Home e Watchmen."
   ]
  },
  {
   "cell_type": "markdown",
   "id": "7756f889-422e-4899-93eb-843132103055",
   "metadata": {},
   "source": [
    "Acredito que nessa situação, a melhor opção de função hash seja a \"c\", usar o primeiro caractere da string como índice."
   ]
  }
 ],
 "metadata": {
  "kernelspec": {
   "display_name": "Python 3 (ipykernel)",
   "language": "python",
   "name": "python3"
  },
  "language_info": {
   "codemirror_mode": {
    "name": "ipython",
    "version": 3
   },
   "file_extension": ".py",
   "mimetype": "text/x-python",
   "name": "python",
   "nbconvert_exporter": "python",
   "pygments_lexer": "ipython3",
   "version": "3.13.1"
  }
 },
 "nbformat": 4,
 "nbformat_minor": 5
}
