{
 "cells": [
  {
   "cell_type": "markdown",
   "id": "20d5d99d-249b-4eda-b1ab-07bb752f07c0",
   "metadata": {},
   "source": [
    "# Primeiro Capítulo"
   ]
  },
  {
   "cell_type": "markdown",
   "id": "2256eea4-fb19-49cc-b534-c28603499b49",
   "metadata": {},
   "source": [
    "## Pesquisa Binária"
   ]
  },
  {
   "cell_type": "markdown",
   "id": "dea593fd-e52f-412b-8d73-8e2b729b2311",
   "metadata": {
    "jupyter": {
     "source_hidden": true
    }
   },
   "source": [
    "Nesse excercício, foi feita uma função que realiza uma pesquisa binária, em alternativa à uma pesquisa simples, reduzindo o número de etapas consideravelmente."
   ]
  },
  {
   "cell_type": "code",
   "execution_count": null,
   "id": "bf2ae809-f078-46da-a271-db34c687d64f",
   "metadata": {},
   "outputs": [],
   "source": [
    "def pesquisa_binaria(lista, item):\n",
    "    baixo = 0\n",
    "    alto = len(lista)\n",
    "\n",
    "    while(baixo <= alto):\n",
    "        meio = (baixo + alto)//2\n",
    "        chute = lista[meio]\n",
    "\n",
    "        if (chute == item):\n",
    "            return meio\n",
    "\n",
    "        if (chute > item):\n",
    "            alto = meio - 1\n",
    "\n",
    "        else:\n",
    "            baixo = meio + 1\n",
    "    return None"
   ]
  },
  {
   "cell_type": "markdown",
   "id": "d213e9ba-931a-4c16-8c08-88a15a07cf8c",
   "metadata": {},
   "source": [
    "Essa função, solicita uma lista ordenada e o valor que se deseja buscar, em seguida, submete a lista à uma pesquisa binária, reduzindo a busca pela metade a cada etapa, até encontrar o valor desejado e então, retorna a posição deste valor na lista em questão."
   ]
  },
  {
   "cell_type": "markdown",
   "id": "0793e336-5da9-4376-9b84-f7ef7cfb1cd1",
   "metadata": {},
   "source": [
    "Segue abaixo um exemplo de solicitação:"
   ]
  },
  {
   "cell_type": "code",
   "execution_count": null,
   "id": "0e079e63-6241-451c-9ff9-52f6730063ab",
   "metadata": {},
   "outputs": [],
   "source": [
    "minha_lista = [1,3,5,7,9]\n",
    "\n",
    "print(pesquisa_binaria(minha_lista, 5))"
   ]
  },
  {
   "cell_type": "markdown",
   "id": "f0a60917-0762-4e81-8f51-1c504b7240b0",
   "metadata": {},
   "source": [
    "O resultado desta solicitação será 2."
   ]
  },
  {
   "cell_type": "markdown",
   "id": "aabd9794-5a76-48de-b794-56da51291c7d",
   "metadata": {},
   "source": [
    "## Exercícios"
   ]
  },
  {
   "cell_type": "markdown",
   "id": "6c174cc0-5fea-4637-8264-52ce104987f3",
   "metadata": {},
   "source": [
    "#### 1.1 Suponha que você tenha uma lista ordenada de 128 nomes e esteja fazendo uma pesquisa binária, qual seria o número máximo de etapas que você levaria para encontrar o nome desejado?"
   ]
  },
  {
   "cell_type": "markdown",
   "id": "fdcb0bbe-5746-4a92-a5a5-8abd5951eb9c",
   "metadata": {},
   "source": [
    "Resposta: O número máximo de etapas será 7, para encontrar essa resposta, realizei o calculo: log₂(128)."
   ]
  },
  {
   "cell_type": "markdown",
   "id": "c894c5c7-3cd0-48a5-a1e9-e42c51ac6e20",
   "metadata": {},
   "source": [
    "#### 1.2 Suponha que você duplique o tamanho da lista. Qual seria o numero máximo de etapas agora?"
   ]
  },
  {
   "cell_type": "markdown",
   "id": "9b2fcc48-f75c-42d6-aec8-a58191c5d50b",
   "metadata": {},
   "source": [
    "Resposta: O número máximo de etapas será 8, para encontrar essa resposta, realizei o calculo: log₂(256)."
   ]
  }
 ],
 "metadata": {
  "kernelspec": {
   "display_name": "Python 3 (ipykernel)",
   "language": "python",
   "name": "python3"
  },
  "language_info": {
   "codemirror_mode": {
    "name": "ipython",
    "version": 3
   },
   "file_extension": ".py",
   "mimetype": "text/x-python",
   "name": "python",
   "nbconvert_exporter": "python",
   "pygments_lexer": "ipython3",
   "version": "3.12.6"
  }
 },
 "nbformat": 4,
 "nbformat_minor": 5
}
