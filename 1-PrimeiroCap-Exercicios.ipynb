{
 "cells": [
  {
   "cell_type": "markdown",
   "id": "20d5d99d-249b-4eda-b1ab-07bb752f07c0",
   "metadata": {},
   "source": [
    "# Primeiro Capítulo"
   ]
  },
  {
   "cell_type": "markdown",
   "id": "2256eea4-fb19-49cc-b534-c28603499b49",
   "metadata": {},
   "source": [
    "## Pesquisa Binária"
   ]
  },
  {
   "cell_type": "markdown",
   "id": "dea593fd-e52f-412b-8d73-8e2b729b2311",
   "metadata": {},
   "source": [
    "Nesse excercício, foi feita uma função que realiza uma pesquisa binária, em alternativa à uma pesquisa simples, reduzindo o número de etapas consideravelmente."
   ]
  },
  {
   "cell_type": "code",
   "execution_count": 2,
   "id": "bf2ae809-f078-46da-a271-db34c687d64f",
   "metadata": {},
   "outputs": [],
   "source": [
    "def pesquisa_binaria(lista, item):\n",
    "    baixo = 0\n",
    "    alto = len(lista)\n",
    "\n",
    "    while(baixo <= alto):\n",
    "        meio = (baixo + alto)//2\n",
    "        chute = lista[meio]\n",
    "\n",
    "        if (chute == item):\n",
    "            return meio\n",
    "\n",
    "        if (chute > item):\n",
    "            alto = meio - 1\n",
    "\n",
    "        else:\n",
    "            baixo = meio + 1\n",
    "    return None"
   ]
  },
  {
   "cell_type": "markdown",
   "id": "d213e9ba-931a-4c16-8c08-88a15a07cf8c",
   "metadata": {},
   "source": [
    "Essa função, solicita uma lista ordenada e o valor que se deseja buscar, em seguida, submete a lista à uma pesquisa binária, reduzindo a busca pela metade a cada etapa, até encontrar o valor desejado e então, retorna a posição deste valor na lista em questão."
   ]
  },
  {
   "cell_type": "markdown",
   "id": "0793e336-5da9-4376-9b84-f7ef7cfb1cd1",
   "metadata": {},
   "source": [
    "Segue abaixo um exemplo de solicitação:"
   ]
  },
  {
   "cell_type": "code",
   "execution_count": 3,
   "id": "0e079e63-6241-451c-9ff9-52f6730063ab",
   "metadata": {},
   "outputs": [
    {
     "name": "stdout",
     "output_type": "stream",
     "text": [
      "2\n"
     ]
    }
   ],
   "source": [
    "minha_lista = [1,3,5,7,9]\n",
    "\n",
    "print(pesquisa_binaria(minha_lista, 5))"
   ]
  },
  {
   "cell_type": "markdown",
   "id": "f0a60917-0762-4e81-8f51-1c504b7240b0",
   "metadata": {},
   "source": [
    "O resultado desta solicitação será 2."
   ]
  },
  {
   "cell_type": "markdown",
   "id": "8cee51b7-8ddb-4d1f-b927-8818929295e5",
   "metadata": {},
   "source": [
    "## Notação Big O"
   ]
  },
  {
   "cell_type": "markdown",
   "id": "702cec0a-2acb-4f86-9211-f7d47b42f2f4",
   "metadata": {},
   "source": [
    "A notação Big O se trata de uma métrica que diz o quão rápido é um código, ou seja, medir a velocidade do código."
   ]
  },
  {
   "cell_type": "markdown",
   "id": "e8e10bcc-c07c-4663-b27d-e9894ae21e06",
   "metadata": {},
   "source": [
    "É escrita da seguinte forma: O(número de operações)."
   ]
  },
  {
   "cell_type": "markdown",
   "id": "2c83f688-d5a9-4a19-8fb6-db030790591d",
   "metadata": {},
   "source": [
    "Os exemplos mais comuns da notação Big O são:"
   ]
  },
  {
   "cell_type": "markdown",
   "id": "7d994ff1-b9e9-4919-b74b-49976c5dbe9d",
   "metadata": {},
   "source": [
    "* O(log n)\n",
    "* O(n)\n",
    "* O(n log n)\n",
    "* O(n²)\n",
    "* O(n!)"
   ]
  },
  {
   "cell_type": "markdown",
   "id": "aabd9794-5a76-48de-b794-56da51291c7d",
   "metadata": {},
   "source": [
    "## Exercícios"
   ]
  },
  {
   "cell_type": "markdown",
   "id": "6c174cc0-5fea-4637-8264-52ce104987f3",
   "metadata": {},
   "source": [
    "#### 1.1 Suponha que você tenha uma lista ordenada de 128 nomes e esteja fazendo uma pesquisa binária, qual seria o número máximo de etapas que você levaria para encontrar o nome desejado?"
   ]
  },
  {
   "cell_type": "markdown",
   "id": "fdcb0bbe-5746-4a92-a5a5-8abd5951eb9c",
   "metadata": {},
   "source": [
    "Resposta: O número máximo de etapas será 7, para encontrar essa resposta, realizei o calculo: log₂(128)."
   ]
  },
  {
   "cell_type": "markdown",
   "id": "c894c5c7-3cd0-48a5-a1e9-e42c51ac6e20",
   "metadata": {},
   "source": [
    "#### 1.2 Suponha que você duplique o tamanho da lista. Qual seria o numero máximo de etapas agora?"
   ]
  },
  {
   "cell_type": "markdown",
   "id": "9b2fcc48-f75c-42d6-aec8-a58191c5d50b",
   "metadata": {},
   "source": [
    "Resposta: O número máximo de etapas será 8, para encontrar essa resposta, realizei o calculo: log₂(256)."
   ]
  },
  {
   "cell_type": "markdown",
   "id": "a88c7e37-059d-40eb-aea4-4f0a849f78b0",
   "metadata": {},
   "source": [
    "#### 1.3 Você tem um nome e deseja encontrar o número de telefone para esse nome em uma agenda telefônica."
   ]
  },
  {
   "cell_type": "markdown",
   "id": "7d2e51bf-2aa0-45a5-b6bb-3b5f8151f61a",
   "metadata": {},
   "source": [
    "Resposta: O(log₂n)."
   ]
  },
  {
   "cell_type": "markdown",
   "id": "8e0db2ca-701c-499d-8d86-489933e6e9fb",
   "metadata": {},
   "source": [
    "#### 1.4 Você tem um número de telefone e deseja encontrar o dono dele em uma agenda telefônica. (Dica: Deve procurar pela agenda inteira!)"
   ]
  },
  {
   "cell_type": "markdown",
   "id": "24771964-1a17-4e2d-99e3-2b15bcef786c",
   "metadata": {},
   "source": [
    "Resposta: O(n)."
   ]
  },
  {
   "cell_type": "markdown",
   "id": "cae7332c-c2a5-4e0d-b2f9-ebe252e7f336",
   "metadata": {},
   "source": [
    "#### 1.5 Você quer ler o número de cada pessoa da agenda telefônica."
   ]
  },
  {
   "cell_type": "markdown",
   "id": "b8aa8250-32ec-413f-aea2-ea81ef28764f",
   "metadata": {},
   "source": [
    "Resposta: O(n)."
   ]
  },
  {
   "cell_type": "markdown",
   "id": "2bc44cbb-b4b2-47c7-83b4-2fd34f46a5e0",
   "metadata": {},
   "source": [
    "#### 1.6 Você quer ler o número apenas dos nomes que começam com A. (Isso é complicado! Esse algoritmo envolve conceitos que são abordados mais profundamente no capitulo 4. Leia a resposta - você ficará surpreso!)"
   ]
  },
  {
   "cell_type": "markdown",
   "id": "a0d34acc-cb68-43ba-9121-cbe0fe89012e",
   "metadata": {},
   "source": [
    "Resposta: O(n)."
   ]
  }
 ],
 "metadata": {
  "kernelspec": {
   "display_name": "Python 3 (ipykernel)",
   "language": "python",
   "name": "python3"
  },
  "language_info": {
   "codemirror_mode": {
    "name": "ipython",
    "version": 3
   },
   "file_extension": ".py",
   "mimetype": "text/x-python",
   "name": "python",
   "nbconvert_exporter": "python",
   "pygments_lexer": "ipython3",
   "version": "3.12.6"
  }
 },
 "nbformat": 4,
 "nbformat_minor": 5
}
