{
 "cells": [
  {
   "cell_type": "markdown",
   "id": "c449b662-1acc-440e-a625-467c5899cf83",
   "metadata": {},
   "source": [
    "# Quarto Capítulo"
   ]
  },
  {
   "cell_type": "markdown",
   "id": "521fb04a-6116-447d-8dd9-aa0360b086d9",
   "metadata": {},
   "source": [
    "## Quicksort"
   ]
  },
  {
   "cell_type": "markdown",
   "id": "e221c593-81c7-4aa1-b9ff-f29fcedecc88",
   "metadata": {},
   "source": [
    "Este capítulo se trata de \"Dividir para Conquistar\", um método para encontrar a menor rota de solução."
   ]
  },
  {
   "cell_type": "markdown",
   "id": "61fc429c-8dfa-4fb9-97fa-c67c4c11c00e",
   "metadata": {},
   "source": [
    "O método se trata de resolver um problema complexo, reduzindo ele ao caso mais simplês possível, chamado caso-base e então gerar um código recursivo que resolva este caso-base, este código chamado de caso-recursivo."
   ]
  },
  {
   "cell_type": "markdown",
   "id": "64474f4e-0e14-487f-92b5-092c9d6658b9",
   "metadata": {},
   "source": [
    "## Exemplo"
   ]
  },
  {
   "cell_type": "markdown",
   "id": "0952d367-b798-4116-a01e-b2da8ab64e4c",
   "metadata": {},
   "source": [
    "Suponhamos que precisamos criar um código que soma todos os números dentro de um array e retorna o valor total."
   ]
  },
  {
   "cell_type": "markdown",
   "id": "7c196382-f988-435c-85a6-9c945c2bb80f",
   "metadata": {},
   "source": [
    "Utilizando o metodo Dividir para Conquistar, chegamos ao caso-base (caso mais simples possível) que seria um caso onde o array só possui um valor ou nenhum valor, que será o resultado, tendo em vista que não será necessário soma-lo com mais nenhum número."
   ]
  },
  {
   "cell_type": "markdown",
   "id": "4710ba55-f4b5-419c-aaea-0e136a7c23c5",
   "metadata": {},
   "source": [
    "Ou seja, a soma da array será igual ao indice 0."
   ]
  },
  {
   "cell_type": "markdown",
   "id": "66bf7cbb-140f-494e-b0d3-4c02a09d0854",
   "metadata": {},
   "source": [
    "Realizando essa tarefa implementando um caso-recursivo que realizará várias iterações somando sempre o indice 0 e removendo-o após a soma, veja:"
   ]
  },
  {
   "cell_type": "code",
   "execution_count": 2,
   "id": "f481a3a3-a856-4c61-8cf0-7bfe15304e7d",
   "metadata": {},
   "outputs": [
    {
     "name": "stdout",
     "output_type": "stream",
     "text": [
      "15\n"
     ]
    }
   ],
   "source": [
    "def soma(arr):\n",
    "    if arr == []:\n",
    "        return 0\n",
    "    return arr[0] + soma(arr[1:])\n",
    "\n",
    "arr = [4,5,6]\n",
    "\n",
    "print(soma(arr))"
   ]
  },
  {
   "cell_type": "markdown",
   "id": "ef931f69-e29c-48a9-a64b-e12eabc16546",
   "metadata": {},
   "source": [
    "## Atividades"
   ]
  },
  {
   "cell_type": "markdown",
   "id": "3fa65719-2418-4301-8c8a-8787384b7b64",
   "metadata": {},
   "source": [
    "### 4.1 Escreva o código para a função soma, vista anteriormente."
   ]
  },
  {
   "cell_type": "code",
   "execution_count": 2,
   "id": "4a7e18d9-a8e6-471b-a71d-11ec5b6d3d6d",
   "metadata": {},
   "outputs": [
    {
     "name": "stdout",
     "output_type": "stream",
     "text": [
      "15\n"
     ]
    }
   ],
   "source": [
    "def soma(arr):\n",
    "    if arr == []:\n",
    "        return 0\n",
    "    return arr[0] + soma(arr[1:])\n",
    "\n",
    "arr = [4,5,6]\n",
    "\n",
    "print(soma(arr))"
   ]
  },
  {
   "cell_type": "markdown",
   "id": "45957d84-58be-4e55-a499-b5ecb7ed013d",
   "metadata": {},
   "source": [
    "### 4.2 Escreva uma função recursiva que conte o número de itens em uma lista."
   ]
  },
  {
   "cell_type": "code",
   "execution_count": 3,
   "id": "dbba9272-3668-4159-bdff-d2d320d552d6",
   "metadata": {},
   "outputs": [
    {
     "name": "stdout",
     "output_type": "stream",
     "text": [
      "3\n"
     ]
    }
   ],
   "source": [
    "def somalista(lista):\n",
    "    if lista == []:\n",
    "        return 0\n",
    "    return 1 + somalista(lista[1:])\n",
    "\n",
    "lista = [\"joão\",\"joaquina\",\"cleber\"]\n",
    "\n",
    "print(somalista(lista))"
   ]
  },
  {
   "cell_type": "markdown",
   "id": "5a1b8e9a-966e-427f-8de3-e364488f9756",
   "metadata": {},
   "source": [
    "### 4.3 Encontre o valor mais alto em uma lista."
   ]
  },
  {
   "cell_type": "code",
   "execution_count": 4,
   "id": "7612242f-fba7-4d62-b149-b1667931f569",
   "metadata": {},
   "outputs": [
    {
     "name": "stdout",
     "output_type": "stream",
     "text": [
      "5\n"
     ]
    }
   ],
   "source": [
    "def max(arr):\n",
    "    if arr == []:\n",
    "        return 0\n",
    "    return arr[0] if arr[0] > max(arr[1:]) else max(arr[1:])\n",
    "\n",
    "a = [0,5,3]\n",
    "\n",
    "print(max(a))"
   ]
  },
  {
   "cell_type": "markdown",
   "id": "f9ecd81f-c0ea-4a74-9f50-b46a922fc951",
   "metadata": {},
   "source": [
    "### 4.4 Você se lembra da pesquisa binária do capítulo 1? Ela também é um algoritmo do tipo dividir para conquistar. Você consegue determinar o caso-base e o caso-recursivo para a pesquisa binária?"
   ]
  },
  {
   "cell_type": "markdown",
   "id": "5f574ded-89c2-4650-b10f-14ad2e019bb3",
   "metadata": {},
   "source": [
    "Claro, o caso-base é quando a array contém apenas um item, sendo o caso mais simples possível."
   ]
  },
  {
   "cell_type": "markdown",
   "id": "1bdbb17c-919c-461d-bf44-e4fefdd8f50d",
   "metadata": {},
   "source": [
    "Já o caso recursivo, é aplicado para arrays maiores, funcionando da seguinte maneira: a busca se inicia pela metade da array, caso o item esteja acima ou abaixo da metade, a array é cortada pela metade e se repete a busca com a nova array reduzida realizando o mesmo processo anterior, semnpre reduzindo a array pela metade."
   ]
  },
  {
   "cell_type": "markdown",
   "id": "b24bbe59-30bd-42d2-9023-e2a9b913912f",
   "metadata": {},
   "source": [
    "## Quanto tempo levaria, em notação Big O, para completar cada uma destas operações?"
   ]
  },
  {
   "cell_type": "markdown",
   "id": "c7e04a2e-e1b5-4524-aee3-838023efe850",
   "metadata": {},
   "source": [
    "### 4.5 Imprimir o valor de cada elemento em um array."
   ]
  },
  {
   "cell_type": "markdown",
   "id": "6ee981d7-dabf-4fc6-bdc0-5a6b89b39a65",
   "metadata": {},
   "source": [
    "O(n)"
   ]
  },
  {
   "cell_type": "markdown",
   "id": "12459f1a-f8c1-4c15-8789-2484d2cc8672",
   "metadata": {},
   "source": [
    "### 4.6 Duplicar o valor de cada elemento em um array."
   ]
  },
  {
   "cell_type": "markdown",
   "id": "1cd580da-90dc-47e0-bb34-62e4326fdf92",
   "metadata": {},
   "source": [
    "O(n)"
   ]
  },
  {
   "cell_type": "markdown",
   "id": "5e29634f-3254-4d6f-ae2b-11c2f23d3031",
   "metadata": {},
   "source": [
    "### 4.7 Duplicar o valor apenas do primeiro elemento em um array."
   ]
  },
  {
   "cell_type": "markdown",
   "id": "0cea7b6c-585d-4523-9ea2-36d9f8d8d04b",
   "metadata": {},
   "source": [
    "O(1)"
   ]
  },
  {
   "cell_type": "markdown",
   "id": "4b5c32ee-d221-4583-bb89-0b7ae29fe447",
   "metadata": {},
   "source": [
    "### 4.8 Criar uma tabela de multiplicação com todos os elementos do array. Assim, caso o seu array seja [2, 3, 7, 8, 10], você primeiro multiplicará cada elemento por 2. Depois, multiplicará cada elemento por 3 e então por 7, e assim por diante."
   ]
  },
  {
   "cell_type": "markdown",
   "id": "0f2bbb63-5885-4893-bbe5-85c35b9e4bf5",
   "metadata": {},
   "source": [
    "O(n²)"
   ]
  }
 ],
 "metadata": {
  "kernelspec": {
   "display_name": "Python 3 (ipykernel)",
   "language": "python",
   "name": "python3"
  },
  "language_info": {
   "codemirror_mode": {
    "name": "ipython",
    "version": 3
   },
   "file_extension": ".py",
   "mimetype": "text/x-python",
   "name": "python",
   "nbconvert_exporter": "python",
   "pygments_lexer": "ipython3",
   "version": "3.13.1"
  }
 },
 "nbformat": 4,
 "nbformat_minor": 5
}
