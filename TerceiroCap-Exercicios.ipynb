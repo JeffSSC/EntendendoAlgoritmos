{
 "cells": [
  {
   "cell_type": "markdown",
   "id": "dc282e31-2e21-4d9d-b977-874dba7162d7",
   "metadata": {},
   "source": [
    "# Terceiro Capítulo"
   ]
  },
  {
   "cell_type": "markdown",
   "id": "c1e46bcd-82cd-43dc-86e4-6b3eb13d9a61",
   "metadata": {},
   "source": [
    "## Recursão"
   ]
  },
  {
   "cell_type": "markdown",
   "id": "0b6d84c3-b7e8-46a1-a87c-ba2066c98029",
   "metadata": {},
   "source": [
    "Este capítulo trata de recursão, uma técnica de programação que tem como intuito deixar o código mais claro."
   ]
  },
  {
   "cell_type": "markdown",
   "id": "ceb26e69-a412-475b-bf5f-6e32d5be0671",
   "metadata": {},
   "source": [
    "A recursão tem o mesmo efeito do loop, porém ela é mais intuitiva enquanto o loop garante mais desempenho ao código."
   ]
  },
  {
   "cell_type": "markdown",
   "id": "9d4965e6-cc77-4b75-a941-4abf9692cdce",
   "metadata": {},
   "source": [
    "### Segue abaixo um exemplo de RECURSÃO e de LOOP."
   ]
  },
  {
   "cell_type": "code",
   "execution_count": 2,
   "id": "59d9d1aa-21bc-4870-9512-04cce875978a",
   "metadata": {},
   "outputs": [],
   "source": [
    "def procure_pela_chave(caixa_principal):\n",
    "    pilha = main_box.crie_uma_pilha_para_busca()\n",
    "    while pilha is not vazia:\n",
    "        caixa = pilha.pegue_caixa()\n",
    "        for item in caixa:\n",
    "            if item.e_uma_caixa():\n",
    "                pilha.append(item)\n",
    "            elif item.e_uma_caixa():\n",
    "                print(\"achei a chave\")"
   ]
  },
  {
   "cell_type": "markdown",
   "id": "c402762b-c35b-408f-8bba-e0fd3d5e0e13",
   "metadata": {},
   "source": [
    "Código de loop que procura por uma pilha de caixas até eventualmente encontrar uma chave dentro de alguma."
   ]
  },
  {
   "cell_type": "code",
   "execution_count": 3,
   "id": "633aa28e-83a7-4e02-b70f-5d22839d4a52",
   "metadata": {},
   "outputs": [],
   "source": [
    "def procure_pela_chave(caixa):\n",
    "    for item in caixa:\n",
    "        if item.e_uma_caixa():\n",
    "            procure_pela_chave(item)\n",
    "        elif item.e_uma_chave():\n",
    "            print(\"achei a chave\")"
   ]
  },
  {
   "cell_type": "markdown",
   "id": "0d4b4810-bbd2-4b0a-975c-b874f314a9c7",
   "metadata": {},
   "source": [
    "Código de Recursão que realiza a mesma função do código acima."
   ]
  },
  {
   "cell_type": "markdown",
   "id": "b89cdaf7-fc35-4c4e-8c72-70db505636d6",
   "metadata": {},
   "source": [
    "## Exercícios"
   ]
  },
  {
   "cell_type": "markdown",
   "id": "54312757-7db7-4aaa-9c0f-043046440aea",
   "metadata": {},
   "source": [
    "### 3.1 Suponha que eu forneça uma pilha de chamada como esta:"
   ]
  },
  {
   "cell_type": "markdown",
   "id": "22b1142c-1191-44fb-bff9-02e460e888f8",
   "metadata": {},
   "source": [
    "<hr>\n",
    "<center>SAUDA2</center>\n",
    "<center>nome:maggie</center>\n",
    "<hr>"
   ]
  },
  {
   "cell_type": "markdown",
   "id": "aeb33283-929a-485a-8ef8-92387069fdbf",
   "metadata": {},
   "source": [
    "<hr>\n",
    "<center>SAUDA</center>\n",
    "<center>nome:maggie</center>\n",
    "<hr>"
   ]
  },
  {
   "cell_type": "markdown",
   "id": "94c9c4db-84bf-45bd-9fe2-da091a039202",
   "metadata": {},
   "source": [
    "### Quais informações você pode retirar baseando-se apenas nesta pilha de chamada?"
   ]
  },
  {
   "cell_type": "markdown",
   "id": "92d19c5c-1f14-434c-b904-4088b676e8a6",
   "metadata": {},
   "source": [
    "Resposta:\n",
    "1. A variável nome está com o valor maggie;\n",
    "2. A função SAUDA chamou a função SAUDA2;\n",
    "3. A função SAUDA2 está pausada ou parrcialmente completa;\n",
    "4. A função SAUDA utiliza nome como parametro. "
   ]
  },
  {
   "cell_type": "markdown",
   "id": "982ef638-77b5-4c1f-883a-a63b36c203ad",
   "metadata": {},
   "source": [
    "### Suponha que você acidentalmente escreva uma função recursiva que fique executando infinitamente. Como você viu, seu computador aloca memória na pilha para cada chamada de função. O que acontece com a pilha quando a função recursiva fica executando infinitamente?"
   ]
  },
  {
   "cell_type": "markdown",
   "id": "c54d353b-a8ff-4704-adc1-662be47e9342",
   "metadata": {},
   "source": [
    "Resposta: A pilha vai aumentar até exceder a capacidade de memória do computador causando um "
   ]
  }
 ],
 "metadata": {
  "kernelspec": {
   "display_name": "Python 3 (ipykernel)",
   "language": "python",
   "name": "python3"
  },
  "language_info": {
   "codemirror_mode": {
    "name": "ipython",
    "version": 3
   },
   "file_extension": ".py",
   "mimetype": "text/x-python",
   "name": "python",
   "nbconvert_exporter": "python",
   "pygments_lexer": "ipython3",
   "version": "3.12.6"
  }
 },
 "nbformat": 4,
 "nbformat_minor": 5
}
