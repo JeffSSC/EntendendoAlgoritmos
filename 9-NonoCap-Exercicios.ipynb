{
 "cells": [
  {
   "cell_type": "markdown",
   "id": "ad686659-356b-4362-924d-34344107eec4",
   "metadata": {},
   "source": [
    "# Capítulo Nove"
   ]
  },
  {
   "cell_type": "markdown",
   "id": "f0a645dd-10b4-4fcc-ac13-2354dbc1bcd7",
   "metadata": {},
   "source": [
    "O penultimo capítulo!"
   ]
  },
  {
   "cell_type": "markdown",
   "id": "3a168c6e-4cf8-432d-9cb0-f36d2c0f43b1",
   "metadata": {},
   "source": [
    "## Programação Dinâmica"
   ]
  },
  {
   "cell_type": "markdown",
   "id": "17b5314f-8c3b-4671-ad07-bdbcb3844b33",
   "metadata": {},
   "source": [
    "Neste capítulo aprendemos um pouco sobre programação dinâmica, que nada mais é do que uma técnica para resolver grandes problemas dividindo-o em subproblemas menores, com maior facilidade para escalabilizar o algoritmo."
   ]
  },
  {
   "cell_type": "markdown",
   "id": "04ee395d-4c0b-43a7-925c-808e7eba26da",
   "metadata": {},
   "source": [
    "A técnica é útil quando se está tentando otimizar um algoritmo em relação a um limite."
   ]
  },
  {
   "cell_type": "markdown",
   "id": "9e616750-7870-49c6-b3e4-9115c5d5d2f9",
   "metadata": {},
   "source": [
    "A técnica consiste em criar uma tabela onde dividiremos o algoritmo em grandezas e valores, imagine que você queira fazer uma viajem de 2 dias e aproveita-la ao máximo indo ao maior número de atrações possíveis nesse espaço de tempo."
   ]
  },
  {
   "cell_type": "markdown",
   "id": "2ee61b70-ecc1-496c-a868-19ed46201a55",
   "metadata": {},
   "source": [
    "É nesse tipo de situação que podemos utilizar a Programação Dinâmica, nesse caso, criaremos uma tabela com os nomes das atrações, seu nivel de interesse nas mesmas, e o tempo que cada uma atração consome."
   ]
  },
  {
   "cell_type": "markdown",
   "id": "a01aea57-a00f-424d-934c-700191e2154a",
   "metadata": {},
   "source": [
    "Com base nas grandezas estipuladas, preencheremos a tabela de maneira que seu valor final seja o melhor resultado possível para nossa viagem."
   ]
  },
  {
   "cell_type": "markdown",
   "id": "c3f2dbb4-a952-4700-87e7-3aea971c7170",
   "metadata": {},
   "source": [
    "# Exercícios"
   ]
  },
  {
   "cell_type": "markdown",
   "id": "b86b1847-c69f-442b-b3f3-f9d8437ea9d7",
   "metadata": {},
   "source": [
    "## 9.1 Imagine que você consegue roubar outro item: um MP3 player. Ele pesa 1 quilo e vale R$1.000. Você deveria rouba-lo?"
   ]
  },
  {
   "cell_type": "markdown",
   "id": "3092b508-1023-4a78-96d1-78180e169dc1",
   "metadata": {},
   "source": [
    "Resposta: Sim, deveria roubar o MP3, o iphone e o violão, totalizando 4.500,00 reais, 500 reais a mais do que o valor anteriormente adquirido."
   ]
  },
  {
   "cell_type": "markdown",
   "id": "7ee4050e-ab24-4462-9d51-2e99453122f0",
   "metadata": {},
   "source": [
    "## 9.2 Suponha que você esteja indo acampar e que sua mochila tenha capacidade para 6 quilos. Sendo assim, você pode escolher entre os itens abaixo para levar. Cada item tem um valor, e quanto mais alto este valor, mais importante o item é.\n",
    "- Água, 3 kg, 10\n",
    "- Livro, 1 kg, 3\n",
    "- Comida, 2 kg, 9\n",
    "- Casaco 2 kg, 5\n",
    "- Câmera, 1 kg, 6\n",
    "## Qual é o conjunto de itens ideal que deve ser levado para o acampamento?"
   ]
  },
  {
   "cell_type": "markdown",
   "id": "f70a59a1-6cd6-4bef-8d24-ac46e2d04708",
   "metadata": {},
   "source": [
    "Resposta: Devemos levar, Água, comida e a câmera."
   ]
  },
  {
   "cell_type": "markdown",
   "id": "dc9fce48-eb31-4f76-8fb0-fdc293c1545c",
   "metadata": {},
   "source": [
    "## 9.3 Desenhe e preencha uma tabela para calcular a maior substring comum entre blue (azul, em inglês) e clues (pistas, em inglês)."
   ]
  },
  {
   "cell_type": "markdown",
   "id": "1391a5cf-0283-4ac8-8d93-39d2bbb7f1a8",
   "metadata": {},
   "source": [
    "<div>\n",
    "    <img src=\"img/9-1.jpg\" width=\"400\" />\n",
    "</div>"
   ]
  }
 ],
 "metadata": {
  "kernelspec": {
   "display_name": "Python 3 (ipykernel)",
   "language": "python",
   "name": "python3"
  },
  "language_info": {
   "codemirror_mode": {
    "name": "ipython",
    "version": 3
   },
   "file_extension": ".py",
   "mimetype": "text/x-python",
   "name": "python",
   "nbconvert_exporter": "python",
   "pygments_lexer": "ipython3",
   "version": "3.13.1"
  }
 },
 "nbformat": 4,
 "nbformat_minor": 5
}
