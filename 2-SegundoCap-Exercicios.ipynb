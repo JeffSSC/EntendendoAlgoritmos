{
 "cells": [
  {
   "cell_type": "markdown",
   "id": "a914a3b7-7d7b-4acb-8b11-0c299e2b56a9",
   "metadata": {},
   "source": [
    "# Segundo Capítulo"
   ]
  },
  {
   "cell_type": "markdown",
   "id": "0c304b59-d572-4984-8311-b7172d455f8f",
   "metadata": {},
   "source": [
    "## Ordenação por seleção"
   ]
  },
  {
   "cell_type": "markdown",
   "id": "10550ae4-3c23-4a50-b760-4bb0571442f7",
   "metadata": {},
   "source": [
    "Este capítulo explica sobre arrays, listas encadeadas e como elas ocupam espaços na memória."
   ]
  },
  {
   "cell_type": "markdown",
   "id": "8bd5c505-ffb6-4191-b458-f72a9532c2ee",
   "metadata": {},
   "source": [
    "Imagine um tabuleiro de xadrez em que as casas são os espaços e as peças são os dados, assim que funciona a memória de um computador, cada dado ocupa apenas um espaço e as informações são geradas pela conexão de dois ou mais dados."
   ]
  },
  {
   "cell_type": "markdown",
   "id": "13a9118e-f97f-4ff2-919d-26ff87e4e9ee",
   "metadata": {},
   "source": [
    "Conhecendo a forma como a memória funciona, agora vamos para as formas de organizar os dados dentro de uma memória, as Arrays e as Listas Encadeadas."
   ]
  },
  {
   "cell_type": "markdown",
   "id": "dea4cb02-001e-4a28-b5de-3eab98de387e",
   "metadata": {},
   "source": [
    "### Arrays"
   ]
  },
  {
   "cell_type": "markdown",
   "id": "63bc11d9-e9d6-4e6e-a953-62ce68ef47f6",
   "metadata": {},
   "source": [
    "As Arrays armazenam os dados em sequência dentro da memória para então formar a informação desejada, ou seja, voltando ao exemplo do xadrez, as arrays seriam como uma corrente de peões que estão presos uns aos outros, portanto, para mover um peão uma casa a frente, é necessário mover todos, da mesma forma, se for necessário acrescentar mais um peão à essa corrente, será necessário encontrar um séria de casas vazias em sequência e então aloca-los."
   ]
  },
  {
   "cell_type": "markdown",
   "id": "c1764e93-8bd6-4725-b569-1addbde96030",
   "metadata": {},
   "source": [
    "### Lista Encadeadas"
   ]
  },
  {
   "cell_type": "markdown",
   "id": "b4d0a67d-cb62-4136-9aba-5db4dbfdc7be",
   "metadata": {},
   "source": [
    "Já as listas encadeadas funcionam com dados que tem o endereço do dado que deve ser lido em sequência, ou seja, não há a necessidade de que os dados sejam ordenados e alinhados como a Array."
   ]
  },
  {
   "cell_type": "markdown",
   "id": "7a5ed9dc-0403-47ee-9f3f-8dc8eff6881a",
   "metadata": {},
   "source": [
    "Vamos exemplificar novamente só que dessa vez como um livro, onde as folhas são os espaços e o conteúdo delas são os dados."
   ]
  },
  {
   "cell_type": "markdown",
   "id": "80d5ac33-140e-4a22-8a39-a9c587acded9",
   "metadata": {},
   "source": [
    "Nesse caso, imagine os seguintes dados \"EU\" - \"SOU\" - \"INTELIGENTE\" dispostos nas páginas 1 - 3 - 7, agora imagine que cada um desses dados tenha a informação de onde fica a sequência da informação, para que os dados façam sentido, ou seja, o dado \"EU\" presente na página 1 acompanha a informação \"a próxima página é a 3\"."
   ]
  },
  {
   "cell_type": "markdown",
   "id": "7e65038e-cabe-41bf-a265-e356a43c1101",
   "metadata": {},
   "source": [
    "## Exercícios"
   ]
  },
  {
   "cell_type": "markdown",
   "id": "e6727883-3465-4b06-bb9a-f53610241d02",
   "metadata": {},
   "source": [
    "#### 2.1 Suponha que você esteja criando um aplicativo para acompanhar as suas finanças.\n",
    "* Compras\n",
    "* Cinema\n",
    "* Mensalidade do SFBC\n",
    "#### Todos os dias você anotará tudo o que gastou e onde gastou.\n",
    "#### No final do mês, você deverá revisar os seus gastos e resumir o quanto gastou. Logo, você terá um monte de inserções e poucas leituras. Você deverá usar um array ou uma lista para implementar este aplicativo?"
   ]
  },
  {
   "cell_type": "markdown",
   "id": "4f49d9d3-32b6-4833-95dc-b1fc15aeae5c",
   "metadata": {},
   "source": [
    "Resposta: Neste caso, deve-se utilizar uma lista encadeada, tendo em vista de que a quantidade de valores que serão inseridos no decorrer do mês é incerta e a necessidade de inserção é muito maior do que a de leitura."
   ]
  },
  {
   "cell_type": "markdown",
   "id": "70fa66e9-d595-47f4-ba59-584d0f77fd8f",
   "metadata": {},
   "source": [
    "#### 2.2 Suponha que você esteja criando um aplicativo para anotar os pedidos dos clientes em um restaurante. Seu aplicativo precisa de uma lista de pedidos. Os garçons adicionam os pedidos a essa lista e os chefes retiram os pedidos da lista. Funciona como uma fila. Os garçons colocam os pedidos no começo dela para cozinhá-los."
   ]
  },
  {
   "cell_type": "markdown",
   "id": "7a1bc077-8c58-4fce-aced-269ad052ff4b",
   "metadata": {},
   "source": [
    "#### Você usaria um array ou uma lista encadeada para implementar essa lista? (Dica: listas encadeadas são boas para inserções/eliminações e arrays são bons para acesso aleatório. O que fazer nesse caso?)"
   ]
  },
  {
   "cell_type": "markdown",
   "id": "25119557-c46e-4b6f-83dc-82a3c1509dcb",
   "metadata": {},
   "source": [
    "Resposta: Eu utilizaria uma lista encadeada tendo em vista sua maior agilidade na inserção e deleção, pois haveria um grande volume de inserções."
   ]
  },
  {
   "cell_type": "markdown",
   "id": "837c9702-3e90-446d-97db-8dbf1d0f1f84",
   "metadata": {},
   "source": [
    "#### 2.3 Vamos analisar um experimento. Imagine que o Facebook guarda uma lista de usuários. Quando alguém tenta acessar o Facebook, uma busca é feita pelo nome do usuário. Se o nome da pessoa está na lista ela pode continuar o acesso. As pessoas acessam o Facebook com muita frequência, então existem muitas buscas nessa lista. Presuma que o Facebook usa a pesquisa binária para procurar o nome na lista. A pesquisa binária requer acesso aleatório - você precisa ser capaz de acessar o meio da lista de nomes instantaneamente. Sabendo disso, você implementaria essa lista como array ou uma lista encadeada?"
   ]
  },
  {
   "cell_type": "markdown",
   "id": "1bf2512c-e3cc-4594-bf3f-9fab760ab58a",
   "metadata": {},
   "source": [
    "Resposta: Utilizaria uma Array por conta do acesso aleatório."
   ]
  },
  {
   "cell_type": "markdown",
   "id": "da498f47-537f-4cc7-baf4-281bcbc31d80",
   "metadata": {},
   "source": [
    "#### 2.4 As pessoas se inscrevem no Facebook com muita frequência também. Suponha que você decida usar uma array para armazenar a lista de usuários. Quais às desvantagens de um array em relação às inserções? Em particular, imagine que você está usando a pesquisa binária para buscar os logins. O que acontece quando você adiciona novos usuários em um array?"
   ]
  },
  {
   "cell_type": "markdown",
   "id": "8d20ed37-cba6-4c85-a455-17ebadd48407",
   "metadata": {},
   "source": [
    "Resposta: O problema é que as inserções serão mais demoradas e as listas deverão ser ordenadas a cada inserção."
   ]
  },
  {
   "cell_type": "markdown",
   "id": "493ba88d-7307-4e61-9127-91b30abc0dbd",
   "metadata": {},
   "source": [
    "#### 2.5 Na verdade o Facebook não usa nem array nem listas encadeadas para armazenar informações. Vamos considerar uma estrutura de dados híbrida: um array de listas encadeadas. Você tem um array com 26 slots. Cada slot aponta para uma lista encadeada. Por exemplo, o primeiro slot aponta para a lista encadeada que contém os usuários que começam com a letra B, e assim por diante."
   ]
  },
  {
   "cell_type": "markdown",
   "id": "f5613c50-c4d9-4631-9335-ebe3d96cd8e2",
   "metadata": {},
   "source": [
    "#### Suponha que o Adit B se inscreva no Facebook e você queira adicioná-lo à lista. Você vai ao slot 1 do array, a seguir para a lista encadeada do slot 1, e adiciona Adit B no final. Agora, suponha que você queira procurar o Zakhir H. Você vai ao slot 26, que aponta para a a lista encadeada de todos os nomes começados em Z. Então, procura pela lista até encontrar o Zakhir H."
   ]
  },
  {
   "cell_type": "markdown",
   "id": "4941ec7a-135a-4e8d-b025-58b0dc3584c9",
   "metadata": {},
   "source": [
    "#### Compare esta estrutura híbrida de arrays e listas encadeadas. É mais lento ou mais rápido fazer inserções e eliminações nesse caso? Você não precisa responder dando o tempo de execução Big O, apenas diga se a nova estrutura de dados é mais rapida ou mais lenta do que os arrays e as listas encadeadas."
   ]
  },
  {
   "cell_type": "markdown",
   "id": "286dc7bc-f839-4aa4-a94e-89d40b9ce6b8",
   "metadata": {},
   "source": [
    "Resposta: Dessa forma, a velocidade de acesso fica superior a de uma lista encadeada porem inferior à de uma array e a velocidade de inserção fica equivalente à de uma lista encadeada."
   ]
  },
  {
   "cell_type": "markdown",
   "id": "4e1d406f-a14d-4db9-a3ad-6c61ac6489db",
   "metadata": {},
   "source": [
    "## Neste capítulo também fizemos um código em python que organiza um Array do menor para o maior:"
   ]
  },
  {
   "cell_type": "code",
   "execution_count": 1,
   "id": "ff369458-676c-4b03-b3aa-3eedcfc79c61",
   "metadata": {},
   "outputs": [],
   "source": [
    "def buscaMenor(arr):\n",
    "    menor = arr[0]\n",
    "    menor_indice = 0\n",
    "    for i in range(1, len(arr)):\n",
    "        if arr[i] < menor:\n",
    "            menor = arr[i]\n",
    "            menor_indice = i\n",
    "    return menor_indice"
   ]
  },
  {
   "cell_type": "markdown",
   "id": "fd5591e9-cfc2-4710-81e5-ce84e4df39e4",
   "metadata": {},
   "source": [
    "### Esta função realiza a busca do menor valor em uma array existente e armazena ele."
   ]
  },
  {
   "cell_type": "markdown",
   "id": "9a3e7446-aac4-4224-9c76-2834d30848f4",
   "metadata": {},
   "source": [
    "### O código a seguir realiza a criação de um novo array com os valores do array anterior ordenados:"
   ]
  },
  {
   "cell_type": "code",
   "execution_count": 2,
   "id": "bee80018-ec56-4322-bd93-0e0e04ec3f8c",
   "metadata": {},
   "outputs": [],
   "source": [
    "def ordenacaoporSelecao(arr):\n",
    "    novoArr = []\n",
    "    for i in range(len(arr)):\n",
    "        menor = buscaMenor(arr)\n",
    "        novoArr.append(arr.pop(menor))\n",
    "    return novoArr"
   ]
  },
  {
   "cell_type": "code",
   "execution_count": 10,
   "id": "8aa5da71-2d28-49ab-9cd8-5cee5d7c45f2",
   "metadata": {},
   "outputs": [
    {
     "name": "stdout",
     "output_type": "stream",
     "text": [
      "[2, 3, 5, 6, 10]\n"
     ]
    }
   ],
   "source": [
    "print(ordenacaoporSelecao([5 ,3 ,6 ,2 ,10]))"
   ]
  }
 ],
 "metadata": {
  "kernelspec": {
   "display_name": "Python 3 (ipykernel)",
   "language": "python",
   "name": "python3"
  },
  "language_info": {
   "codemirror_mode": {
    "name": "ipython",
    "version": 3
   },
   "file_extension": ".py",
   "mimetype": "text/x-python",
   "name": "python",
   "nbconvert_exporter": "python",
   "pygments_lexer": "ipython3",
   "version": "3.12.6"
  }
 },
 "nbformat": 4,
 "nbformat_minor": 5
}
